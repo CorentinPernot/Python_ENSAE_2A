{
 "cells": [
  {
   "cell_type": "markdown",
   "id": "00547d33-871f-413c-a128-dc900144fd52",
   "metadata": {},
   "source": [
    "### Importation des modules et packages"
   ]
  },
  {
   "cell_type": "code",
   "execution_count": 16,
   "id": "ae61643c-4d97-4326-915f-40d9f1821f93",
   "metadata": {},
   "outputs": [],
   "source": [
    "import pandas as pd \n",
    "import numpy as np \n",
    "import seaborn as sns \n",
    "import matplotlib.pyplot as plt\n",
    "import requests \n",
    "import urllib\n",
    "import bs4\n",
    "import pandas as pd\n",
    "from urllib import request\n",
    "import re\n",
    "from tqdm import tqdm\n",
    "from scipy import *\n",
    "!pip install pandas_profiling \n",
    "!pip install ipywidgets\n",
    "from pandas_profiling import ProfileReport"
   ]
  },
  {
   "cell_type": "markdown",
   "id": "4cd2b2f3-9a7f-4d24-92fa-d7626c98aa79",
   "metadata": {},
   "source": [
    "# Récupération des données \n",
    "\n",
    "### WebScrapping des noms de films sur Wikipédia \n",
    "\n",
    "On stocke tous les noms des films présents sur cette page dans une liste que l'on appelle Liste_films.\n",
    "On modifie le format de certains titre : ' XXX (1967)' devient ' XXX '\n",
    "Finalement, on récupère la longueur de la liste : elle est de ≈ 1500. "
   ]
  },
  {
   "cell_type": "code",
   "execution_count": 17,
   "id": "bedd2358-9502-4123-8ba7-069140edb5d7",
   "metadata": {},
   "outputs": [
    {
     "name": "stdout",
     "output_type": "stream",
     "text": [
      "Requirement already satisfied: lxml in /opt/anaconda3/envs/jupyterlab-3.3.2/lib/python3.10/site-packages (4.9.1)\n"
     ]
    }
   ],
   "source": [
    "!pip install lxml"
   ]
  },
  {
   "cell_type": "code",
   "execution_count": 18,
   "id": "943c7ba1-113a-489b-9f17-219998404fcd",
   "metadata": {},
   "outputs": [
    {
     "name": "stdout",
     "output_type": "stream",
     "text": [
      "List of years in film\n"
     ]
    }
   ],
   "source": [
    "response = requests.get(\n",
    "\turl=\"https://en.wikipedia.org/wiki/List_of_years_in_film\",\n",
    ")\n",
    "soup = bs4.BeautifulSoup(response.content, 'html.parser')\n",
    "\n",
    "title = soup.find(id=\"firstHeading\")\n",
    "print(title.string)"
   ]
  },
  {
   "cell_type": "code",
   "execution_count": 19,
   "id": "62a588e2-dec1-44c2-a994-0c30c579f7ba",
   "metadata": {},
   "outputs": [],
   "source": [
    "all_names= soup.findAll(\"i\")\n",
    "L=[]\n",
    "for link in all_names :\n",
    "    t=link.findAll('a')\n",
    "    if len(t)!=0:\n",
    "        r=t[0]['title']\n",
    "        L.append(r)\n",
    "# print(L)"
   ]
  },
  {
   "cell_type": "code",
   "execution_count": 20,
   "id": "8686921a-afd7-49cc-aad3-b8ec95a6148e",
   "metadata": {},
   "outputs": [
    {
     "data": {
      "text/plain": [
       "1546"
      ]
     },
     "execution_count": 20,
     "metadata": {},
     "output_type": "execute_result"
    }
   ],
   "source": [
    "# on enlève les précisions entre parenthèses \n",
    "\n",
    "Liste_films= []\n",
    "for i in L: \n",
    "    Liste_films.append(re.sub(\"\\(.*?\\)\",\"()\",i).replace(\"()\",\"\"))\n",
    "#print(L2)\n",
    "len(Liste_films)"
   ]
  },
  {
   "cell_type": "markdown",
   "id": "afeb1c87-3e26-4442-ba25-166ef2e61680",
   "metadata": {},
   "source": [
    "### Utilisation d'une API pour récupérer l'identifiant des films à partir de leur titre\n",
    "\n",
    "On utilise l'API: The Movie Database API (TMDB API) pour laquelle j'ai du faire une demande de clé : api_key\n",
    "On place ces identifiants dans une liste index.\n",
    "\n",
    "#### CAS PARTICULIER : on fixe le nom du film"
   ]
  },
  {
   "cell_type": "code",
   "execution_count": 21,
   "id": "7e220ff5-7e85-4897-97aa-fc2ed5aab059",
   "metadata": {},
   "outputs": [
    {
     "data": {
      "text/plain": [
       "[811367,\n",
       " 82700,\n",
       " 443297,\n",
       " 748853,\n",
       " 5491,\n",
       " 55420,\n",
       " 31642,\n",
       " 10946,\n",
       " 197624,\n",
       " 13363,\n",
       " 238603,\n",
       " 641370,\n",
       " 347111,\n",
       " 464593,\n",
       " 339,\n",
       " 831,\n",
       " 11569,\n",
       " 88751,\n",
       " 85949,\n",
       " 685607]"
      ]
     },
     "execution_count": 21,
     "metadata": {},
     "output_type": "execute_result"
    }
   ],
   "source": [
    "# on va utiliser une première requête d'API pour accéder aux ID des films scrappés sur Wikipédia\n",
    "api_key='28c6630049f5d468217e4f34963c03a6' #clé de l'API \n",
    "nom_du_film='Earth '\n",
    "\n",
    "url_api=f\"https://api.themoviedb.org/3/search/movie?api_key={api_key}&query={nom_du_film}\" \n",
    "#requête pour trouver les infos ayant le nom_du_film en title \n",
    "req = requests.get(url_api)\n",
    "wb = req.json()\n",
    "\n",
    "\n",
    "# on récupère tous les indexs des films en question \n",
    "index=[]\n",
    "for film in range(len(wb['results'])):\n",
    "    index.append(wb['results'][film]['id'])\n",
    "index  "
   ]
  },
  {
   "cell_type": "code",
   "execution_count": 22,
   "id": "aa430eaf-7e45-43a5-9302-52ba70c5546c",
   "metadata": {},
   "outputs": [],
   "source": [
    "api_key='28c6630049f5d468217e4f34963c03a6' #clé de l'API \n",
    "\n",
    "def get_id(nom):\n",
    "    url_api=f\"https://api.themoviedb.org/3/search/movie?api_key={api_key}&query={nom}\" \n",
    "    #requête pour trouver les infos ayant le nom_du_film en title \n",
    "    req = requests.get(url_api)\n",
    "    wb = req.json()\n",
    "\n",
    "\n",
    "    # on récupère tous les indexs des films en question \n",
    "    index=[]\n",
    "    for film in range(len(wb['results'])):\n",
    "        index.append(wb['results'][film]['id'])\n",
    "    return(index)\n",
    "\n"
   ]
  },
  {
   "cell_type": "markdown",
   "id": "14d7cc73-550f-48f0-a086-2050024a3ff8",
   "metadata": {},
   "source": [
    "### Récupération du détail des données grâce à une autre API \n",
    "\n",
    "Toujours sur TMDB API, on utilise cette fois l'id du film pour accéder à un grand nombre de données sur ce film : get detail. \n",
    "Pour cela on fait appel à la fonction précédente qui nous donnait les id correspondant au titre du film. \n",
    "On ajuste le format des données pour que les tailles des éléments nous permettent de convertir le dictionnaire\n",
    "en DataFrame pandas. "
   ]
  },
  {
   "cell_type": "code",
   "execution_count": 23,
   "id": "cbe4738a-adf9-4b65-b9b1-69a6e92fa395",
   "metadata": {},
   "outputs": [],
   "source": [
    "def df_avec_id(id):\n",
    "    id_film= id\n",
    "    url_new_api = f\"https://api.themoviedb.org/3/movie/{id_film}?api_key={api_key}&language=en-US\"\n",
    "    req_new = requests.get(url_new_api)\n",
    "    wb_new = req_new.json()\n",
    "    \n",
    "    \n",
    "    #ajustement des données \n",
    "    if wb_new['belongs_to_collection']!=None: \n",
    "        wb_new['belongs_to_collection']=wb_new['belongs_to_collection']['name']\n",
    "        \n",
    "    wb_new['genres']=' , '.join([x['name'] for x in wb_new['genres']]) #on ne sélectionne que le nom des genres \n",
    "    wb_new['production_companies']=' , '.join([x['name'] for x in wb_new['production_companies']]) #on ne sélectionne que les noms (même pas les pays)\n",
    "    wb_new['production_countries']=' , '.join([x['name'] for x in wb_new['production_countries']])\n",
    "    wb_new['spoken_languages']=' , '.join([x['name'] for x in wb_new['spoken_languages']])\n",
    "    \n",
    "    df=pd.DataFrame(wb_new, index=[wb_new['id']])  #j'ai mis l'ID en index mais on peut aussi indexer à partie de 0\n",
    "    # pour cela, on met index=[0]\n",
    "    \n",
    "    return (df)"
   ]
  },
  {
   "cell_type": "markdown",
   "id": "924e95ed-b3d4-428e-ad95-e00318962e2e",
   "metadata": {},
   "source": [
    "### Généralisation et concaténation\n",
    "\n",
    "On utilise les deux fonctions précédentes pour créer notre DataFrame all. \n",
    "On parcourt la liste des titres puis la liste des id pour chacun des films. \n",
    "On a donc une double-boucle for, ce qui s'avère couteux mais qui fonctionne au bout d'1h30. \n",
    "\n",
    "Un axe d'amélioration serait de réduire le temps pour cette collecte de données. "
   ]
  },
  {
   "cell_type": "code",
   "execution_count": 24,
   "id": "59408fd6-12ea-4e1e-bb97-882e4786c341",
   "metadata": {},
   "outputs": [],
   "source": [
    "def concat_all(liste):\n",
    "    Liste_fail=[]\n",
    "    \n",
    "    DF_ALL=pd.DataFrame()\n",
    "    for nom in tqdm(liste):\n",
    "        #print(nom)\n",
    "        ind=get_id(nom)\n",
    "        for i in ind:\n",
    "            try:\n",
    "                df_2=df_avec_id(i)\n",
    "                #print(df_2.budget)\n",
    "                if df_2['budget'].all()>0:\n",
    "                    DF_ALL=pd.concat([DF_ALL,df_2],axis=0)\n",
    "                    \n",
    "            except ValueError:\n",
    "                Liste_fail.append([nom,i])\n",
    "    print(Liste_fail)\n",
    "    return DF_ALL"
   ]
  },
  {
   "cell_type": "code",
   "execution_count": 25,
   "id": "f11f27eb-203a-4bf9-9433-661fb611fbe7",
   "metadata": {},
   "outputs": [],
   "source": [
    "def concat_all_2(liste):\n",
    "    Liste_fail=[]\n",
    "    DF_ALL=pd.DataFrame()\n",
    "    for nom in tqdm(liste):\n",
    "        #print(nom)\n",
    "        ind=get_id(nom)\n",
    "        f_vect(ind)\n",
    "    print(Liste_fail)\n",
    "    return DF_ALL"
   ]
  },
  {
   "cell_type": "code",
   "execution_count": 29,
   "id": "239e8f69-217e-41da-8b64-368cc2ca9ac1",
   "metadata": {},
   "outputs": [],
   "source": [
    "def fonction_int(id):\n",
    "    try:\n",
    "                df_2=df_avec_id(id)\n",
    "                #print(df_2.budget)\n",
    "                if df_2['budget'].all()>0:\n",
    "                    return(pd.DataFrame())\n",
    "                    \n",
    "    except ValueError:\n",
    "                Liste_fail.append(id)\n",
    "            \n",
    "\n",
    "f_vect = np.vectorize(fonction_int)"
   ]
  },
  {
   "cell_type": "code",
   "execution_count": 27,
   "id": "0da34776-ab87-40fb-b35f-f54db6792a73",
   "metadata": {},
   "outputs": [
    {
     "name": "stderr",
     "output_type": "stream",
     "text": [
      "100%|██████████| 1546/1546 [41:09<00:00,  1.60s/it] "
     ]
    },
    {
     "name": "stdout",
     "output_type": "stream",
     "text": [
      "[]\n"
     ]
    },
    {
     "name": "stderr",
     "output_type": "stream",
     "text": [
      "\n"
     ]
    }
   ],
   "source": [
    "l=Liste_films\n",
    "a=concat_all(l)"
   ]
  },
  {
   "cell_type": "code",
   "execution_count": 30,
   "id": "2dddd6da-f657-451a-99b9-af5f10e8840e",
   "metadata": {},
   "outputs": [
    {
     "data": {
      "text/html": [
       "<div>\n",
       "<style scoped>\n",
       "    .dataframe tbody tr th:only-of-type {\n",
       "        vertical-align: middle;\n",
       "    }\n",
       "\n",
       "    .dataframe tbody tr th {\n",
       "        vertical-align: top;\n",
       "    }\n",
       "\n",
       "    .dataframe thead th {\n",
       "        text-align: right;\n",
       "    }\n",
       "</style>\n",
       "<table border=\"1\" class=\"dataframe\">\n",
       "  <thead>\n",
       "    <tr style=\"text-align: right;\">\n",
       "      <th></th>\n",
       "      <th>adult</th>\n",
       "      <th>backdrop_path</th>\n",
       "      <th>belongs_to_collection</th>\n",
       "      <th>budget</th>\n",
       "      <th>genres</th>\n",
       "      <th>homepage</th>\n",
       "      <th>id</th>\n",
       "      <th>imdb_id</th>\n",
       "      <th>original_language</th>\n",
       "      <th>original_title</th>\n",
       "      <th>...</th>\n",
       "      <th>release_date</th>\n",
       "      <th>revenue</th>\n",
       "      <th>runtime</th>\n",
       "      <th>spoken_languages</th>\n",
       "      <th>status</th>\n",
       "      <th>tagline</th>\n",
       "      <th>title</th>\n",
       "      <th>video</th>\n",
       "      <th>vote_average</th>\n",
       "      <th>vote_count</th>\n",
       "    </tr>\n",
       "  </thead>\n",
       "  <tbody>\n",
       "    <tr>\n",
       "      <th>624860</th>\n",
       "      <td>False</td>\n",
       "      <td>/eNI7PtK6DEYgZmHWP9gQNuff8pv.jpg</td>\n",
       "      <td>The Matrix Collection</td>\n",
       "      <td>190000000</td>\n",
       "      <td>Science Fiction , Action , Adventure</td>\n",
       "      <td>https://www.whatisthematrix.com</td>\n",
       "      <td>624860</td>\n",
       "      <td>tt10838180</td>\n",
       "      <td>en</td>\n",
       "      <td>The Matrix Resurrections</td>\n",
       "      <td>...</td>\n",
       "      <td>2021-12-16</td>\n",
       "      <td>156497322</td>\n",
       "      <td>147</td>\n",
       "      <td>English</td>\n",
       "      <td>Released</td>\n",
       "      <td>Return to the source.</td>\n",
       "      <td>The Matrix Resurrections</td>\n",
       "      <td>False</td>\n",
       "      <td>6.600</td>\n",
       "      <td>4320</td>\n",
       "    </tr>\n",
       "    <tr>\n",
       "      <th>603</th>\n",
       "      <td>False</td>\n",
       "      <td>/l4QHerTSbMI7qgvasqxP36pqjN6.jpg</td>\n",
       "      <td>The Matrix Collection</td>\n",
       "      <td>63000000</td>\n",
       "      <td>Action , Science Fiction</td>\n",
       "      <td>http://www.warnerbros.com/matrix</td>\n",
       "      <td>603</td>\n",
       "      <td>tt0133093</td>\n",
       "      <td>en</td>\n",
       "      <td>The Matrix</td>\n",
       "      <td>...</td>\n",
       "      <td>1999-03-30</td>\n",
       "      <td>463517383</td>\n",
       "      <td>136</td>\n",
       "      <td>English</td>\n",
       "      <td>Released</td>\n",
       "      <td>Welcome to the Real World.</td>\n",
       "      <td>The Matrix</td>\n",
       "      <td>False</td>\n",
       "      <td>8.194</td>\n",
       "      <td>22404</td>\n",
       "    </tr>\n",
       "    <tr>\n",
       "      <th>604</th>\n",
       "      <td>False</td>\n",
       "      <td>/pxK1iK6anS6erGg4QePmMKbB1E7.jpg</td>\n",
       "      <td>The Matrix Collection</td>\n",
       "      <td>150000000</td>\n",
       "      <td>Adventure , Action , Thriller , Science Fiction</td>\n",
       "      <td></td>\n",
       "      <td>604</td>\n",
       "      <td>tt0234215</td>\n",
       "      <td>en</td>\n",
       "      <td>The Matrix Reloaded</td>\n",
       "      <td>...</td>\n",
       "      <td>2003-05-15</td>\n",
       "      <td>738599701</td>\n",
       "      <td>138</td>\n",
       "      <td>English</td>\n",
       "      <td>Released</td>\n",
       "      <td>Free your mind.</td>\n",
       "      <td>The Matrix Reloaded</td>\n",
       "      <td>False</td>\n",
       "      <td>7.025</td>\n",
       "      <td>9434</td>\n",
       "    </tr>\n",
       "    <tr>\n",
       "      <th>605</th>\n",
       "      <td>False</td>\n",
       "      <td>/533xAMhhVyjTy8hwMUFEt5TuDfR.jpg</td>\n",
       "      <td>The Matrix Collection</td>\n",
       "      <td>150000000</td>\n",
       "      <td>Adventure , Action , Thriller , Science Fiction</td>\n",
       "      <td></td>\n",
       "      <td>605</td>\n",
       "      <td>tt0242653</td>\n",
       "      <td>en</td>\n",
       "      <td>The Matrix Revolutions</td>\n",
       "      <td>...</td>\n",
       "      <td>2003-11-05</td>\n",
       "      <td>424988211</td>\n",
       "      <td>129</td>\n",
       "      <td>English , Français</td>\n",
       "      <td>Released</td>\n",
       "      <td>Everything that has a beginning has an end.</td>\n",
       "      <td>The Matrix Revolutions</td>\n",
       "      <td>False</td>\n",
       "      <td>6.700</td>\n",
       "      <td>8481</td>\n",
       "    </tr>\n",
       "    <tr>\n",
       "      <th>13764</th>\n",
       "      <td>False</td>\n",
       "      <td>/xLDSKsyAGFFCNYDmNynEOsms5jp.jpg</td>\n",
       "      <td>None</td>\n",
       "      <td>50000000</td>\n",
       "      <td>Family , Fantasy , Adventure</td>\n",
       "      <td></td>\n",
       "      <td>13764</td>\n",
       "      <td>tt0089961</td>\n",
       "      <td>en</td>\n",
       "      <td>Santa Claus: The Movie</td>\n",
       "      <td>...</td>\n",
       "      <td>1985-10-29</td>\n",
       "      <td>23717291</td>\n",
       "      <td>108</td>\n",
       "      <td>English</td>\n",
       "      <td>Released</td>\n",
       "      <td>Guess who's coming to town!</td>\n",
       "      <td>Santa Claus: The Movie</td>\n",
       "      <td>False</td>\n",
       "      <td>6.300</td>\n",
       "      <td>205</td>\n",
       "    </tr>\n",
       "  </tbody>\n",
       "</table>\n",
       "<p>5 rows × 25 columns</p>\n",
       "</div>"
      ],
      "text/plain": [
       "        adult                     backdrop_path  belongs_to_collection  \\\n",
       "624860  False  /eNI7PtK6DEYgZmHWP9gQNuff8pv.jpg  The Matrix Collection   \n",
       "603     False  /l4QHerTSbMI7qgvasqxP36pqjN6.jpg  The Matrix Collection   \n",
       "604     False  /pxK1iK6anS6erGg4QePmMKbB1E7.jpg  The Matrix Collection   \n",
       "605     False  /533xAMhhVyjTy8hwMUFEt5TuDfR.jpg  The Matrix Collection   \n",
       "13764   False  /xLDSKsyAGFFCNYDmNynEOsms5jp.jpg                   None   \n",
       "\n",
       "           budget                                           genres  \\\n",
       "624860  190000000             Science Fiction , Action , Adventure   \n",
       "603      63000000                         Action , Science Fiction   \n",
       "604     150000000  Adventure , Action , Thriller , Science Fiction   \n",
       "605     150000000  Adventure , Action , Thriller , Science Fiction   \n",
       "13764    50000000                     Family , Fantasy , Adventure   \n",
       "\n",
       "                                homepage      id     imdb_id  \\\n",
       "624860   https://www.whatisthematrix.com  624860  tt10838180   \n",
       "603     http://www.warnerbros.com/matrix     603   tt0133093   \n",
       "604                                          604   tt0234215   \n",
       "605                                          605   tt0242653   \n",
       "13764                                      13764   tt0089961   \n",
       "\n",
       "       original_language            original_title  ... release_date  \\\n",
       "624860                en  The Matrix Resurrections  ...   2021-12-16   \n",
       "603                   en                The Matrix  ...   1999-03-30   \n",
       "604                   en       The Matrix Reloaded  ...   2003-05-15   \n",
       "605                   en    The Matrix Revolutions  ...   2003-11-05   \n",
       "13764                 en    Santa Claus: The Movie  ...   1985-10-29   \n",
       "\n",
       "          revenue runtime    spoken_languages    status  \\\n",
       "624860  156497322     147             English  Released   \n",
       "603     463517383     136             English  Released   \n",
       "604     738599701     138             English  Released   \n",
       "605     424988211     129  English , Français  Released   \n",
       "13764    23717291     108             English  Released   \n",
       "\n",
       "                                            tagline                     title  \\\n",
       "624860                        Return to the source.  The Matrix Resurrections   \n",
       "603                      Welcome to the Real World.                The Matrix   \n",
       "604                                 Free your mind.       The Matrix Reloaded   \n",
       "605     Everything that has a beginning has an end.    The Matrix Revolutions   \n",
       "13764                   Guess who's coming to town!    Santa Claus: The Movie   \n",
       "\n",
       "        video vote_average vote_count  \n",
       "624860  False        6.600       4320  \n",
       "603     False        8.194      22404  \n",
       "604     False        7.025       9434  \n",
       "605     False        6.700       8481  \n",
       "13764   False        6.300        205  \n",
       "\n",
       "[5 rows x 25 columns]"
      ]
     },
     "execution_count": 30,
     "metadata": {},
     "output_type": "execute_result"
    }
   ],
   "source": [
    "a.head(5)"
   ]
  },
  {
   "cell_type": "code",
   "execution_count": null,
   "id": "e6eab907-82b2-4651-8f63-9cf9b24c57e1",
   "metadata": {},
   "outputs": [],
   "source": [
    "ProfileReport(df)"
   ]
  },
  {
   "cell_type": "markdown",
   "id": "0d1a2519-987f-4916-9036-8fec33998b8c",
   "metadata": {},
   "source": [
    "# Résolution des problèmes du dataset\n",
    "\n",
    "Genres\n",
    "\n",
    "On va créer pour chaque genre une variable \"nom du genre\" qui vaudra 1 si le film appartient à ce genre et 0 sinon. Cela permettra de résoudre le pb de la multiappartenance\n",
    "\n",
    "Nationalité\n",
    "\n",
    "On fait de même qu'avec les genres\n",
    "\n",
    "Saga\n",
    "\n",
    "Créer une variable 1 ou 0"
   ]
  },
  {
   "cell_type": "code",
   "execution_count": null,
   "id": "0a1f61a1-4730-4e7c-91bf-ca12d72d6fa1",
   "metadata": {},
   "outputs": [],
   "source": []
  },
  {
   "cell_type": "code",
   "execution_count": null,
   "id": "872cf6d9-df67-4c5e-99ea-30f8f88a267b",
   "metadata": {},
   "outputs": [],
   "source": []
  },
  {
   "cell_type": "code",
   "execution_count": null,
   "id": "446272c9-58ae-4441-bd60-979433c8a651",
   "metadata": {},
   "outputs": [],
   "source": []
  },
  {
   "cell_type": "code",
   "execution_count": null,
   "id": "8ccbeae1-6cc8-4f19-8991-bba76fc59821",
   "metadata": {},
   "outputs": [],
   "source": []
  },
  {
   "cell_type": "code",
   "execution_count": null,
   "id": "ebf679c8-a1cd-49fc-8b54-7d259d47fcc4",
   "metadata": {},
   "outputs": [],
   "source": []
  },
  {
   "cell_type": "code",
   "execution_count": null,
   "id": "0f51c7cc-9e74-403c-9dde-6aaed5f81606",
   "metadata": {},
   "outputs": [],
   "source": []
  },
  {
   "cell_type": "code",
   "execution_count": null,
   "id": "98dbd62d-36e7-4e2b-8795-45fbd6ae28ca",
   "metadata": {},
   "outputs": [],
   "source": []
  },
  {
   "cell_type": "code",
   "execution_count": null,
   "id": "04d55bb2-d8c9-4672-bde5-ac207f889c86",
   "metadata": {},
   "outputs": [],
   "source": []
  },
  {
   "cell_type": "code",
   "execution_count": null,
   "id": "2a411505-431a-4a57-b645-27ac4b7849a2",
   "metadata": {},
   "outputs": [],
   "source": []
  },
  {
   "cell_type": "code",
   "execution_count": null,
   "id": "d265fb98-f465-4bc3-aeba-3e407e852608",
   "metadata": {},
   "outputs": [],
   "source": []
  },
  {
   "cell_type": "code",
   "execution_count": null,
   "id": "bd19097f-9588-4ea5-9ffe-3838ee4c72ad",
   "metadata": {},
   "outputs": [],
   "source": []
  }
 ],
 "metadata": {
  "kernelspec": {
   "display_name": "Python 3 (ipykernel)",
   "language": "python",
   "name": "python3"
  },
  "language_info": {
   "codemirror_mode": {
    "name": "ipython",
    "version": 3
   },
   "file_extension": ".py",
   "mimetype": "text/x-python",
   "name": "python",
   "nbconvert_exporter": "python",
   "pygments_lexer": "ipython3",
   "version": "3.10.4"
  }
 },
 "nbformat": 4,
 "nbformat_minor": 5
}
