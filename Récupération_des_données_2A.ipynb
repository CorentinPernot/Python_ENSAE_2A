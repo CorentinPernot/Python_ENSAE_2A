{
 "cells": [
  {
   "cell_type": "markdown",
   "id": "00547d33-871f-413c-a128-dc900144fd52",
   "metadata": {},
   "source": [
    "### Importation des modules et packages"
   ]
  },
  {
   "cell_type": "code",
   "execution_count": 2,
   "id": "ae61643c-4d97-4326-915f-40d9f1821f93",
   "metadata": {},
   "outputs": [],
   "source": [
    "import pandas as pd \n",
    "import numpy as np \n",
    "import seaborn as sns \n",
    "import matplotlib.pyplot as plt\n",
    "import requests \n",
    "import urllib\n",
    "import bs4\n",
    "import pandas as pd\n",
    "from urllib import request\n",
    "import re\n",
    "from tqdm import tqdm"
   ]
  },
  {
   "cell_type": "markdown",
   "id": "4cd2b2f3-9a7f-4d24-92fa-d7626c98aa79",
   "metadata": {},
   "source": [
    "## Récupération des données \n",
    "\n",
    "### WebScrapping des noms de films sur Wikipédia \n",
    "\n",
    "On stocke tous les noms des films présents sur cette page dans une liste que l'on appelle Liste_films.\n",
    "On modifie le format de certains titre : ' XXX (1967)' devient ' XXX '\n",
    "Finalement, on récupère la longueur de la liste : elle est de ≈ 1500. "
   ]
  },
  {
   "cell_type": "code",
   "execution_count": 3,
   "id": "bedd2358-9502-4123-8ba7-069140edb5d7",
   "metadata": {},
   "outputs": [
    {
     "name": "stdout",
     "output_type": "stream",
     "text": [
      "Requirement already satisfied: lxml in /opt/anaconda3/envs/jupyterlab-3.3.2/lib/python3.10/site-packages (4.9.1)\n"
     ]
    }
   ],
   "source": [
    "!pip install lxml"
   ]
  },
  {
   "cell_type": "code",
   "execution_count": 4,
   "id": "943c7ba1-113a-489b-9f17-219998404fcd",
   "metadata": {},
   "outputs": [
    {
     "name": "stdout",
     "output_type": "stream",
     "text": [
      "List of years in film\n"
     ]
    }
   ],
   "source": [
    "response = requests.get(\n",
    "\turl=\"https://en.wikipedia.org/wiki/List_of_years_in_film\",\n",
    ")\n",
    "soup = bs4.BeautifulSoup(response.content, 'html.parser')\n",
    "\n",
    "title = soup.find(id=\"firstHeading\")\n",
    "print(title.string)"
   ]
  },
  {
   "cell_type": "code",
   "execution_count": 5,
   "id": "62a588e2-dec1-44c2-a994-0c30c579f7ba",
   "metadata": {},
   "outputs": [],
   "source": [
    "all_names= soup.findAll(\"i\")\n",
    "L=[]\n",
    "for link in all_names :\n",
    "    t=link.findAll('a')\n",
    "    if len(t)!=0:\n",
    "        r=t[0]['title']\n",
    "        L.append(r)\n",
    "# print(L)"
   ]
  },
  {
   "cell_type": "code",
   "execution_count": 6,
   "id": "8686921a-afd7-49cc-aad3-b8ec95a6148e",
   "metadata": {},
   "outputs": [
    {
     "data": {
      "text/plain": [
       "1546"
      ]
     },
     "execution_count": 6,
     "metadata": {},
     "output_type": "execute_result"
    }
   ],
   "source": [
    "# on enlève les précisions entre parenthèses \n",
    "\n",
    "Liste_films= []\n",
    "for i in L: \n",
    "    Liste_films.append(re.sub(\"\\(.*?\\)\",\"()\",i).replace(\"()\",\"\"))\n",
    "#print(L2)\n",
    "len(Liste_films)"
   ]
  },
  {
   "cell_type": "markdown",
   "id": "afeb1c87-3e26-4442-ba25-166ef2e61680",
   "metadata": {},
   "source": [
    "### Utilisation d'une API pour récupérer l'identifiant des films à partir de leur titre\n",
    "\n",
    "On utilise l'API: The Movie Database API (TMDB API) pour laquelle j'ai du faire une demande de clé : api_key\n",
    "On place ces identifiants dans une liste index.\n",
    "\n",
    "#### CAS PARTICULIER : on fixe le nom du film"
   ]
  },
  {
   "cell_type": "code",
   "execution_count": 8,
   "id": "7e220ff5-7e85-4897-97aa-fc2ed5aab059",
   "metadata": {},
   "outputs": [
    {
     "data": {
      "text/plain": [
       "[811367,\n",
       " 82700,\n",
       " 443297,\n",
       " 748853,\n",
       " 5491,\n",
       " 55420,\n",
       " 31642,\n",
       " 10946,\n",
       " 197624,\n",
       " 13363,\n",
       " 238603,\n",
       " 641370,\n",
       " 347111,\n",
       " 464593,\n",
       " 339,\n",
       " 831,\n",
       " 11569,\n",
       " 88751,\n",
       " 85949,\n",
       " 685607]"
      ]
     },
     "execution_count": 8,
     "metadata": {},
     "output_type": "execute_result"
    }
   ],
   "source": [
    "# on va utiliser une première requête d'API pour accéder aux ID des films scrappés sur Wikipédia\n",
    "api_key='28c6630049f5d468217e4f34963c03a6' #clé de l'API \n",
    "nom_du_film='Earth '\n",
    "\n",
    "url_api=f\"https://api.themoviedb.org/3/search/movie?api_key={api_key}&query={nom_du_film}\" \n",
    "#requête pour trouver les infos ayant le nom_du_film en title \n",
    "req = requests.get(url_api)\n",
    "wb = req.json()\n",
    "\n",
    "\n",
    "# on récupère tous les indexs des films en question \n",
    "index=[]\n",
    "for film in range(len(wb['results'])):\n",
    "    index.append(wb['results'][film]['id'])\n",
    "index  "
   ]
  },
  {
   "cell_type": "code",
   "execution_count": 9,
   "id": "aa430eaf-7e45-43a5-9302-52ba70c5546c",
   "metadata": {},
   "outputs": [],
   "source": [
    "api_key='28c6630049f5d468217e4f34963c03a6' #clé de l'API \n",
    "\n",
    "def get_id(nom):\n",
    "    url_api=f\"https://api.themoviedb.org/3/search/movie?api_key={api_key}&query={nom}\" \n",
    "    #requête pour trouver les infos ayant le nom_du_film en title \n",
    "    req = requests.get(url_api)\n",
    "    wb = req.json()\n",
    "\n",
    "\n",
    "    # on récupère tous les indexs des films en question \n",
    "    index=[]\n",
    "    for film in range(len(wb['results'])):\n",
    "        index.append(wb['results'][film]['id'])\n",
    "    return(index)\n",
    "\n"
   ]
  },
  {
   "cell_type": "markdown",
   "id": "14d7cc73-550f-48f0-a086-2050024a3ff8",
   "metadata": {},
   "source": [
    "### Récupération du détail des données grâce à une autre API \n",
    "\n",
    "Toujours sur TMDB API, on utilise cette fois l'id du film pour accéder à un grand nombre de données sur ce film : get detail. \n",
    "Pour cela on fait appel à la fonction précédente qui nous donnait les id correspondant au titre du film. \n",
    "On ajuste le format des données pour que les tailles des éléments nous permettent de convertir le dictionnaire\n",
    "en DataFrame pandas. "
   ]
  },
  {
   "cell_type": "code",
   "execution_count": 10,
   "id": "cbe4738a-adf9-4b65-b9b1-69a6e92fa395",
   "metadata": {},
   "outputs": [],
   "source": [
    "def df_avec_id(id):\n",
    "    id_film= id\n",
    "    url_new_api = f\"https://api.themoviedb.org/3/movie/{id_film}?api_key={api_key}&language=en-US\"\n",
    "    req_new = requests.get(url_new_api)\n",
    "    wb_new = req_new.json()\n",
    "    \n",
    "    \n",
    "    #ajustement des données \n",
    "    if wb_new['belongs_to_collection']!=None: \n",
    "        wb_new['belongs_to_collection']=wb_new['belongs_to_collection']['name']\n",
    "        \n",
    "    wb_new['genres']=' , '.join([x['name'] for x in wb_new['genres']]) #on ne sélectionne que le nom des genres \n",
    "    wb_new['production_companies']=' , '.join([x['name'] for x in wb_new['production_companies']]) #on ne sélectionne que les noms (même pas les pays)\n",
    "    wb_new['production_countries']=' , '.join([x['name'] for x in wb_new['production_countries']])\n",
    "    wb_new['spoken_languages']=' , '.join([x['name'] for x in wb_new['spoken_languages']])\n",
    "    \n",
    "    df=pd.DataFrame(wb_new, index=[wb_new['id']])  #j'ai mis l'ID en index mais on peut aussi indexer à partie de 0\n",
    "    # pour cela, on met index=[0]\n",
    "    \n",
    "    return (df)"
   ]
  },
  {
   "cell_type": "markdown",
   "id": "924e95ed-b3d4-428e-ad95-e00318962e2e",
   "metadata": {},
   "source": [
    "### Généralisation et concaténation\n",
    "\n",
    "On utilise les deux fonctions précédentes pour créer notre DataFrame all. \n",
    "On parcourt la liste des titres puis la liste des id pour chacun des films. \n",
    "On a donc une double-boucle for, ce qui s'avère couteux mais qui fonctionne au bout d'1h30. \n",
    "\n",
    "Un axe d'amélioration serait de réduire le temps pour cette collecte de données. "
   ]
  },
  {
   "cell_type": "code",
   "execution_count": 11,
   "id": "59408fd6-12ea-4e1e-bb97-882e4786c341",
   "metadata": {},
   "outputs": [],
   "source": [
    "def concat_all(liste):\n",
    "    Liste_fail=[]\n",
    "    \n",
    "    DF_ALL=pd.DataFrame()\n",
    "    for nom in tqdm(liste):\n",
    "        #print(nom)\n",
    "        ind=get_id(nom)\n",
    "        for i in ind:\n",
    "            try:\n",
    "                df_2=df_avec_id(i)\n",
    "                #print(df_2.budget)\n",
    "                if df_2['budget'].all()>0:\n",
    "                    DF_ALL=pd.concat([DF_ALL,df_2],axis=0)\n",
    "                    \n",
    "            except ValueError:\n",
    "                Liste_fail.append([nom,i])\n",
    "    print(Liste_fail)\n",
    "    return DF_ALL"
   ]
  },
  {
   "cell_type": "code",
   "execution_count": 12,
   "id": "f11f27eb-203a-4bf9-9433-661fb611fbe7",
   "metadata": {},
   "outputs": [],
   "source": [
    "def concat_all_2(liste):\n",
    "    Liste_fail=[]\n",
    "    DF_ALL=pd.DataFrame()\n",
    "    for nom in tqdm(liste):\n",
    "        #print(nom)\n",
    "        ind=get_id(nom)\n",
    "        f_vect(ind)\n",
    "    print(Liste_fail)\n",
    "    return DF_ALL"
   ]
  },
  {
   "cell_type": "code",
   "execution_count": 13,
   "id": "239e8f69-217e-41da-8b64-368cc2ca9ac1",
   "metadata": {},
   "outputs": [
    {
     "ename": "NameError",
     "evalue": "name 'vectorize' is not defined",
     "output_type": "error",
     "traceback": [
      "\u001b[0;31m---------------------------------------------------------------------------\u001b[0m",
      "\u001b[0;31mNameError\u001b[0m                                 Traceback (most recent call last)",
      "Input \u001b[0;32mIn [13]\u001b[0m, in \u001b[0;36m<cell line: 12>\u001b[0;34m()\u001b[0m\n\u001b[1;32m      8\u001b[0m     \u001b[38;5;28;01mexcept\u001b[39;00m \u001b[38;5;167;01mValueError\u001b[39;00m:\n\u001b[1;32m      9\u001b[0m                 Liste_fail\u001b[38;5;241m.\u001b[39mappend(\u001b[38;5;28mid\u001b[39m)\n\u001b[0;32m---> 12\u001b[0m f_vect \u001b[38;5;241m=\u001b[39m \u001b[43mvectorize\u001b[49m(fonction_int)\n",
      "\u001b[0;31mNameError\u001b[0m: name 'vectorize' is not defined"
     ]
    }
   ],
   "source": [
    "def fonction_int(id):\n",
    "    try:\n",
    "                df_2=df_avec_id(id)\n",
    "                #print(df_2.budget)\n",
    "                if df_2['budget'].all()>0:\n",
    "                    return(pd.DataFrame())\n",
    "                    \n",
    "    except ValueError:\n",
    "                Liste_fail.append(id)\n",
    "            \n",
    "\n",
    "f_vect = vectorize(fonction_int)"
   ]
  },
  {
   "cell_type": "code",
   "execution_count": null,
   "id": "0da34776-ab87-40fb-b35f-f54db6792a73",
   "metadata": {},
   "outputs": [],
   "source": [
    "l=Liste_films\n",
    "a=concat_all(l)"
   ]
  },
  {
   "cell_type": "code",
   "execution_count": null,
   "id": "2dddd6da-f657-451a-99b9-af5f10e8840e",
   "metadata": {},
   "outputs": [],
   "source": [
    "a.head(20)"
   ]
  }
 ],
 "metadata": {
  "kernelspec": {
   "display_name": "Python 3 (ipykernel)",
   "language": "python",
   "name": "python3"
  },
  "language_info": {
   "codemirror_mode": {
    "name": "ipython",
    "version": 3
   },
   "file_extension": ".py",
   "mimetype": "text/x-python",
   "name": "python",
   "nbconvert_exporter": "python",
   "pygments_lexer": "ipython3",
   "version": "3.10.4"
  }
 },
 "nbformat": 4,
 "nbformat_minor": 5
}
